{
 "cells": [
  {
   "cell_type": "code",
   "execution_count": 1,
   "metadata": {},
   "outputs": [],
   "source": [
    "import tensorflow as tf\n",
    "import numpy as np\n",
    "import matplotlib.pyplot as plt\n",
    "import cv2\n",
    "from tensorflow.keras.preprocessing import image"
   ]
  },
  {
   "cell_type": "code",
   "execution_count": 2,
   "metadata": {},
   "outputs": [
    {
     "name": "stdout",
     "output_type": "stream",
     "text": [
      "Found 7967 files belonging to 3 classes.\n",
      "Found 1593 files belonging to 3 classes.\n"
     ]
    }
   ],
   "source": [
    "# Load the dataset from the local directory\n",
    "train_dataset = tf.keras.preprocessing.image_dataset_from_directory(\n",
    "    'Dataset/train',\n",
    "    image_size=(28, 28),\n",
    "    color_mode='grayscale',\n",
    "    batch_size=32,\n",
    "    label_mode='int'\n",
    ")\n",
    "\n",
    "test_dataset = tf.keras.preprocessing.image_dataset_from_directory(\n",
    "    'Dataset/test',\n",
    "    image_size=(28, 28),\n",
    "    color_mode='grayscale',\n",
    "    batch_size=32,\n",
    "    label_mode='int'\n",
    ")\n",
    "\n",
    "class_names = train_dataset.class_names"
   ]
  },
  {
   "cell_type": "code",
   "execution_count": 3,
   "metadata": {},
   "outputs": [
    {
     "data": {
      "image/png": "[encoded data removed]",
      "text/plain": [
       "<Figure size 640x480 with 2 Axes>"
      ]
     },
     "metadata": {},
     "output_type": "display_data"
    }
   ],
   "source": [
    "# Normalize the images\n",
    "normalization_layer = tf.keras.layers.Rescaling(1./255)\n",
    "train_dataset = train_dataset.map(lambda x, y: (normalization_layer(x), y))\n",
    "test_dataset = test_dataset.map(lambda x, y: (normalization_layer(x), y))\n",
    "\n",
    "# Display the first image from the training dataset\n",
    "plt.figure()\n",
    "for images, labels in train_dataset.take(1):\n",
    "    plt.imshow(images[0].numpy().squeeze(), cmap=plt.cm.binary)\n",
    "    plt.colorbar()\n",
    "    plt.grid(False)\n",
    "    plt.show()"
   ]
  },
  {
   "cell_type": "code",
   "execution_count": 4,
   "metadata": {},
   "outputs": [
    {
     "name": "stdout",
     "output_type": "stream",
     "text": [
      "Model: \"sequential\"\n",
      "_________________________________________________________________\n",
      " Layer (type)                Output Shape              Param #   \n",
      "=================================================================\n",
      " conv2d (Conv2D)             (None, 26, 26, 32)        320       \n",
      "                                                                 \n",
      " max_pooling2d (MaxPooling2D  (None, 13, 13, 32)       0         \n",
      " )                                                               \n",
      "                                                                 \n",
      " conv2d_1 (Conv2D)           (None, 11, 11, 64)        18496     \n",
      "                                                                 \n",
      " max_pooling2d_1 (MaxPooling  (None, 5, 5, 64)         0         \n",
      " 2D)                                                             \n",
      "                                                                 \n",
      " conv2d_2 (Conv2D)           (None, 3, 3, 64)          36928     \n",
      "                                                                 \n",
      " flatten (Flatten)           (None, 576)               0         \n",
      "                                                                 \n",
      " dense (Dense)               (None, 128)               73856     \n",
      "                                                                 \n",
      " dense_1 (Dense)             (None, 3)                 387       \n",
      "                                                                 \n",
      "=================================================================\n",
      "Total params: 129,987\n",
      "Trainable params: 129,987\n",
      "Non-trainable params: 0\n",
      "_________________________________________________________________\n"
     ]
    }
   ],
   "source": [
    "# Define the model\n",
    "model = tf.keras.Sequential([\n",
    "    tf.keras.layers.Conv2D(32, (3, 3), activation='relu', input_shape=(28, 28, 1)),\n",
    "    tf.keras.layers.MaxPooling2D((2, 2)),\n",
    "    tf.keras.layers.Conv2D(64, (3, 3), activation='relu'),\n",
    "    tf.keras.layers.MaxPooling2D((2, 2)),\n",
    "    tf.keras.layers.Conv2D(64, (3, 3), activation='relu'),\n",
    "    tf.keras.layers.Flatten(),\n",
    "    tf.keras.layers.Dense(128, activation='relu'),\n",
    "    tf.keras.layers.Dense(len(class_names), activation='softmax')\n",
    "])\n",
    "\n",
    "model.summary()"
   ]
  },
  {
   "cell_type": "code",
   "execution_count": 5,
   "metadata": {},
   "outputs": [],
   "source": [
    "model.compile(optimizer='adam',\n",
    "              loss=tf.keras.losses.SparseCategoricalCrossentropy(from_logits=False),\n",
    "              metrics=['accuracy'])"
   ]
  },
  {
   "cell_type": "code",
   "execution_count": 6,
   "metadata": {},
   "outputs": [
    {
     "name": "stdout",
     "output_type": "stream",
     "text": [
      "Epoch 1/30\n",
      "249/249 [==============================] - 10s 35ms/step - loss: 0.4503 - accuracy: 0.8201\n",
      "Epoch 2/30\n",
      "249/249 [==============================] - 3s 10ms/step - loss: 0.2577 - accuracy: 0.9087\n",
      "Epoch 3/30\n",
      "249/249 [==============================] - 3s 11ms/step - loss: 0.2061 - accuracy: 0.9282\n",
      "Epoch 4/30\n",
      "249/249 [==============================] - 3s 13ms/step - loss: 0.1667 - accuracy: 0.9405\n",
      "Epoch 5/30\n",
      "249/249 [==============================] - 4s 14ms/step - loss: 0.1381 - accuracy: 0.9522\n",
      "Epoch 6/30\n",
      "249/249 [==============================] - 3s 12ms/step - loss: 0.1130 - accuracy: 0.9618\n",
      "Epoch 7/30\n",
      "249/249 [==============================] - 3s 12ms/step - loss: 0.0881 - accuracy: 0.9695\n",
      "Epoch 8/30\n",
      "249/249 [==============================] - 3s 12ms/step - loss: 0.0722 - accuracy: 0.9741\n",
      "Epoch 9/30\n",
      "249/249 [==============================] - 3s 12ms/step - loss: 0.0542 - accuracy: 0.9814\n",
      "Epoch 10/30\n",
      "249/249 [==============================] - 3s 11ms/step - loss: 0.0436 - accuracy: 0.9843\n",
      "Epoch 11/30\n",
      "249/249 [==============================] - 3s 11ms/step - loss: 0.0361 - accuracy: 0.9890\n",
      "Epoch 12/30\n",
      "249/249 [==============================] - 3s 12ms/step - loss: 0.0345 - accuracy: 0.9878\n",
      "Epoch 13/30\n",
      "249/249 [==============================] - 3s 11ms/step - loss: 0.0244 - accuracy: 0.9922\n",
      "Epoch 14/30\n",
      "249/249 [==============================] - 3s 11ms/step - loss: 0.0253 - accuracy: 0.9918\n",
      "Epoch 15/30\n",
      "249/249 [==============================] - 3s 12ms/step - loss: 0.0227 - accuracy: 0.9927\n",
      "Epoch 16/30\n",
      "249/249 [==============================] - 3s 13ms/step - loss: 0.0148 - accuracy: 0.9956\n",
      "Epoch 17/30\n",
      "249/249 [==============================] - 3s 11ms/step - loss: 0.0224 - accuracy: 0.9915\n",
      "Epoch 18/30\n",
      "249/249 [==============================] - 3s 11ms/step - loss: 0.0227 - accuracy: 0.9898\n",
      "Epoch 19/30\n",
      "249/249 [==============================] - 3s 11ms/step - loss: 0.0186 - accuracy: 0.9938\n",
      "Epoch 20/30\n",
      "249/249 [==============================] - 3s 13ms/step - loss: 0.0207 - accuracy: 0.9931\n",
      "Epoch 21/30\n",
      "249/249 [==============================] - 3s 10ms/step - loss: 0.0201 - accuracy: 0.9928\n",
      "Epoch 22/30\n",
      "249/249 [==============================] - 3s 11ms/step - loss: 0.0245 - accuracy: 0.9915\n",
      "Epoch 23/30\n",
      "249/249 [==============================] - 3s 12ms/step - loss: 0.0218 - accuracy: 0.9920\n",
      "Epoch 24/30\n",
      "249/249 [==============================] - 4s 14ms/step - loss: 0.0138 - accuracy: 0.9941\n",
      "Epoch 25/30\n",
      "249/249 [==============================] - 3s 11ms/step - loss: 0.0041 - accuracy: 0.9985\n",
      "Epoch 26/30\n",
      "249/249 [==============================] - 3s 11ms/step - loss: 0.0103 - accuracy: 0.9967\n",
      "Epoch 27/30\n",
      "249/249 [==============================] - 3s 11ms/step - loss: 0.0159 - accuracy: 0.9940\n",
      "Epoch 28/30\n",
      "249/249 [==============================] - 3s 11ms/step - loss: 0.0068 - accuracy: 0.9980\n",
      "Epoch 29/30\n",
      "249/249 [==============================] - 3s 10ms/step - loss: 0.0111 - accuracy: 0.9957\n",
      "Epoch 30/30\n",
      "249/249 [==============================] - 3s 12ms/step - loss: 0.0180 - accuracy: 0.9940\n"
     ]
    },
    {
     "data": {
      "text/plain": [
       "<keras.callbacks.History at 0x26a8f96af70>"
      ]
     },
     "execution_count": 6,
     "metadata": {},
     "output_type": "execute_result"
    }
   ],
   "source": [
    "model.fit(train_dataset, epochs=30)"
   ]
  },
  {
   "cell_type": "code",
   "execution_count": 7,
   "metadata": {},
   "outputs": [
    {
     "name": "stderr",
     "output_type": "stream",
     "text": [
      "WARNING:absl:Found untraced functions such as _jit_compiled_convolution_op, _jit_compiled_convolution_op, _jit_compiled_convolution_op while saving (showing 3 of 3). These functions will not be directly callable after loading.\n"
     ]
    },
    {
     "name": "stdout",
     "output_type": "stream",
     "text": [
      "INFO:tensorflow:Assets written to: model\\assets\n"
     ]
    },
    {
     "name": "stderr",
     "output_type": "stream",
     "text": [
      "INFO:tensorflow:Assets written to: model\\assets\n"
     ]
    }
   ],
   "source": [
    "model.save(\"model\")\n",
    "model.save_weights(\"model_weights\")"
   ]
  },
  {
   "cell_type": "code",
   "execution_count": 8,
   "metadata": {},
   "outputs": [
    {
     "name": "stdout",
     "output_type": "stream",
     "text": [
      "50/50 - 1s - loss: 0.0162 - accuracy: 0.9950 - 1s/epoch - 21ms/step\n",
      "\n",
      "Test accuracy: 0.9949780106544495\n",
      "50/50 [==============================] - 1s 7ms/step\n"
     ]
    }
   ],
   "source": [
    "loaded_model = tf.keras.models.load_model('model')\n",
    "test_loss, test_acc = loaded_model.evaluate(test_dataset, verbose=2)\n",
    "print('\\nTest accuracy:', test_acc)\n",
    "\n",
    "predictions = loaded_model.predict(test_dataset)"
   ]
  }
 ],
 "metadata": {
  "kernelspec": {
   "display_name": "GG_2526",
   "language": "python",
   "name": "python3"
  },
  "language_info": {
   "codemirror_mode": {
    "name": "ipython",
    "version": 3
   },
   "file_extension": ".py",
   "mimetype": "text/x-python",
   "name": "python",
   "nbconvert_exporter": "python",
   "pygments_lexer": "ipython3",
   "version": "3.9.19"
  }
 },
 "nbformat": 4,
 "nbformat_minor": 2
}
